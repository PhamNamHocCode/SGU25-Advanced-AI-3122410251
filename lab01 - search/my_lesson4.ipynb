{
 "cells": [
  {
   "cell_type": "markdown",
   "id": "0cfa247f-bf3f-4910-90dc-ae8ecb607964",
   "metadata": {},
   "source": [
    "# Buổi 4: Tìm kiếm trong không gian trạng thái"
   ]
  },
  {
   "cell_type": "markdown",
   "id": "48ace7ff-b7d1-4cf2-94da-a21d2d821112",
   "metadata": {},
   "source": [
    "### Bài 1. Biễu diễn đồ thị\n",
    "\n",
    "Cho đồ thị hàm số **G** (**V**, **E**) như bên dưới:\n",
    "\n",
    "![image](dothi.png)"
   ]
  },
  {
   "cell_type": "markdown",
   "id": "51164f9d-5d98-4361-b2c2-1fb23fd3704c",
   "metadata": {},
   "source": [
    "#### 1. Biễu diễn bằng danh sách / ma trận kề"
   ]
  },
  {
   "cell_type": "code",
   "id": "8715cbf5-d144-479d-9bb3-eb0be736fa12",
   "metadata": {
    "ExecuteTime": {
     "end_time": "2025-09-19T03:11:37.762388Z",
     "start_time": "2025-09-19T03:11:37.757344Z"
    }
   },
   "source": [
    "\"\"\" CÁC BẠN LÀM BÀI Ở ĐÂY \"\"\"\n",
    "# ...\n",
    "ADJ = { \"A\" : [\"C\", \"D\", \"E\", \"F\"],\n",
    "        \"C\" : [\"H\"],\n",
    "        \"D\" : [\"E\", \"H\"],\n",
    "        \"E\" : [\"I\", \"K\"],\n",
    "        \"F\" : [\"G\", \"I\"],\n",
    "        \"H\" : [\"K\"],\n",
    "        \"K\" : [\"B\"],\n",
    "        \"I\" : [\"K\", \"B\"],\n",
    "        \"B\" : [],\n",
    "        \"G\" : []\n",
    "}"
   ],
   "outputs": [],
   "execution_count": 1
  },
  {
   "cell_type": "code",
   "id": "44f952fc-0188-4215-823b-6efb1ba5622a",
   "metadata": {
    "ExecuteTime": {
     "end_time": "2025-09-19T03:11:37.787686Z",
     "start_time": "2025-09-19T03:11:37.784353Z"
    }
   },
   "source": [
    "import pprint\n",
    "pprint.pprint(ADJ)"
   ],
   "outputs": [
    {
     "name": "stdout",
     "output_type": "stream",
     "text": [
      "{'A': ['C', 'D', 'E', 'F'],\n",
      " 'B': [],\n",
      " 'C': ['H'],\n",
      " 'D': ['E', 'H'],\n",
      " 'E': ['I', 'K'],\n",
      " 'F': ['G', 'I'],\n",
      " 'G': [],\n",
      " 'H': ['K'],\n",
      " 'I': ['K', 'B'],\n",
      " 'K': ['B']}\n"
     ]
    }
   ],
   "execution_count": 2
  },
  {
   "cell_type": "markdown",
   "id": "c975f35c-f742-4ac2-be01-1fe53c94eadf",
   "metadata": {},
   "source": [
    "#### 2. Thao tác duyệt đồ thị\n",
    "(a) Liệt kê các đỉnh trong đồ thị <br/>\n",
    "(b) Liệt kê tất cả các cạnh đồ thị hiển thị dạng danh sách kề <br/>\n",
    "(c) Cho hai đỉnh A, B. Hỏi hai đỉnh A, B có kề nhau không? <br/>\n",
    "(d) Cho một đỉnh A. Hỏi danh sách các đỉnh kề với A <br/>"
   ]
  },
  {
   "cell_type": "code",
   "id": "d286c1a6-ef93-4581-9f7e-96ea10020985",
   "metadata": {
    "ExecuteTime": {
     "end_time": "2025-09-19T03:11:37.826767Z",
     "start_time": "2025-09-19T03:11:37.823959Z"
    }
   },
   "source": [
    "print(\"2. Thao tác duyệt đồ thị\")"
   ],
   "outputs": [
    {
     "name": "stdout",
     "output_type": "stream",
     "text": [
      "2. Thao tác duyệt đồ thị\n"
     ]
    }
   ],
   "execution_count": 3
  },
  {
   "cell_type": "code",
   "id": "5faa6543-247a-4903-ba2a-9c1595af4f41",
   "metadata": {
    "ExecuteTime": {
     "end_time": "2025-09-19T03:11:37.866695Z",
     "start_time": "2025-09-19T03:11:37.861211Z"
    }
   },
   "source": [
    "print(\"(a) Liệt kê các đỉnh trong đồ thị\")\n",
    "print(\"Các đỉnh của đồ thị: \", end = \" \")\n",
    "\"\"\" CÁC BẠN LÀM BÀI Ở ĐÂY \"\"\"\n",
    "# ...\n",
    "list(ADJ.keys())"
   ],
   "outputs": [
    {
     "name": "stdout",
     "output_type": "stream",
     "text": [
      "(a) Liệt kê các đỉnh trong đồ thị\n",
      "Các đỉnh của đồ thị:  "
     ]
    },
    {
     "data": {
      "text/plain": [
       "['A', 'C', 'D', 'E', 'F', 'H', 'K', 'I', 'B', 'G']"
      ]
     },
     "execution_count": 4,
     "metadata": {},
     "output_type": "execute_result"
    }
   ],
   "execution_count": 4
  },
  {
   "cell_type": "code",
   "id": "3df2151a-a327-4672-a7af-519084f4b044",
   "metadata": {
    "ExecuteTime": {
     "end_time": "2025-09-19T03:11:37.904479Z",
     "start_time": "2025-09-19T03:11:37.901189Z"
    }
   },
   "source": [
    "print(\"(b) Liệt kê tất cả các cạnh đồ thị hiển thị dạng danh sách kề\")\n",
    "print(\"Danh sách kề của đồ thị: \")\n",
    "\n",
    "def HienThiDoThi(G):\n",
    "    \"\"\" CÁC BẠN LÀM BÀI Ở ĐÂY \"\"\"\n",
    "    # ...\n",
    "    for i in G:\n",
    "        print(\"Đỉnh \",i, \": \", G[i])\n",
    "    pass\n",
    "\n",
    "HienThiDoThi(ADJ)"
   ],
   "outputs": [
    {
     "name": "stdout",
     "output_type": "stream",
     "text": [
      "(b) Liệt kê tất cả các cạnh đồ thị hiển thị dạng danh sách kề\n",
      "Danh sách kề của đồ thị: \n",
      "Đỉnh  A :  ['C', 'D', 'E', 'F']\n",
      "Đỉnh  C :  ['H']\n",
      "Đỉnh  D :  ['E', 'H']\n",
      "Đỉnh  E :  ['I', 'K']\n",
      "Đỉnh  F :  ['G', 'I']\n",
      "Đỉnh  H :  ['K']\n",
      "Đỉnh  K :  ['B']\n",
      "Đỉnh  I :  ['K', 'B']\n",
      "Đỉnh  B :  []\n",
      "Đỉnh  G :  []\n"
     ]
    }
   ],
   "execution_count": 5
  },
  {
   "metadata": {
    "ExecuteTime": {
     "end_time": "2025-09-19T03:11:37.934422Z",
     "start_time": "2025-09-19T03:11:37.929599Z"
    }
   },
   "cell_type": "code",
   "source": "print(ADJ.get(\"D\"))",
   "id": "a8161e473dff7850",
   "outputs": [
    {
     "name": "stdout",
     "output_type": "stream",
     "text": [
      "['E', 'H']\n"
     ]
    }
   ],
   "execution_count": 6
  },
  {
   "cell_type": "code",
   "id": "4077c30a-c7be-4a44-93de-9ed446a6a368",
   "metadata": {
    "ExecuteTime": {
     "end_time": "2025-09-19T03:11:37.981163Z",
     "start_time": "2025-09-19T03:11:37.977959Z"
    }
   },
   "source": [
    "print(\"(c) Cho hai đỉnh A, B. Hỏi hai đỉnh A, B có kề nhau không?\")\n",
    "\n",
    "def LaKe(G, a, b):\n",
    "    \"\"\"\n",
    "    input: G, a, b\n",
    "    return: \n",
    "    + -1: dinh a, hay b khong ton tai\n",
    "    +  0: dinh a, b ton tai va a khong ke b\n",
    "    +  1: dinh a, b ton tai va a, b ke nhau\n",
    "    \"\"\"\n",
    "\n",
    "    result = None\n",
    "    \"\"\" CÁC BẠN LÀM BÀI Ở ĐÂY \"\"\"\n",
    "    # ...\n",
    "    if a not in G or b not in G:\n",
    "        return -1\n",
    "    if a not in G[b]:\n",
    "        return 0\n",
    "    if b in G[a] or a in G[b]:\n",
    "        return 1\n",
    "    return result"
   ],
   "outputs": [
    {
     "name": "stdout",
     "output_type": "stream",
     "text": [
      "(c) Cho hai đỉnh A, B. Hỏi hai đỉnh A, B có kề nhau không?\n"
     ]
    }
   ],
   "execution_count": 7
  },
  {
   "cell_type": "code",
   "id": "0e90a761-8354-460a-a451-1cbb97b9b6b8",
   "metadata": {
    "ExecuteTime": {
     "end_time": "2025-09-19T03:11:38.010709Z",
     "start_time": "2025-09-19T03:11:38.006213Z"
    }
   },
   "source": [
    "a = \"L\"; b = \"R\"; print(f\"{a} ke {b}: {LaKe(ADJ, a, b)}\")\n",
    "a = \"A\"; b = \"R\"; print(f\"{a} ke {b}: {LaKe(ADJ, a, b)}\")\n",
    "a = \"E\"; b = \"D\"; print(f\"{a} ke {b}: {LaKe(ADJ, a, b)}\")\n",
    "a = \"D\"; b = \"E\"; print(f\"{a} ke {b}: {LaKe(ADJ, a, b)}\")"
   ],
   "outputs": [
    {
     "name": "stdout",
     "output_type": "stream",
     "text": [
      "L ke R: -1\n",
      "A ke R: -1\n",
      "E ke D: 1\n",
      "D ke E: 0\n"
     ]
    }
   ],
   "execution_count": 8
  },
  {
   "cell_type": "code",
   "id": "41048b4b-9311-470f-9c0f-2bcb5b062587",
   "metadata": {
    "ExecuteTime": {
     "end_time": "2025-09-19T03:11:38.036599Z",
     "start_time": "2025-09-19T03:11:38.032213Z"
    }
   },
   "source": [
    "print(\"(d) Cho một đỉnh A. Hỏi danh sách các đỉnh kề với A\")\n",
    "\n",
    "def LayKe(G, a):\n",
    "    \"\"\"\n",
    "    input: G, a\n",
    "    return: \n",
    "    + None: neu a khong ton tai\n",
    "    + []  : a khong ke voi bat ky dinh nao\n",
    "    + [x, y, ...]: mang cac dinh ke voi a\n",
    "    \"\"\"\n",
    "    result = None\n",
    "    \n",
    "    \"\"\" CÁC BẠN LÀM BÀI Ở ĐÂY \"\"\"\n",
    "    # ...\n",
    "    if a  in G:\n",
    "        return G[a]\n",
    "    return result\n",
    "\n",
    "a = \"P\"; print(f\"Danh sach ke voi dinh {a}: {LayKe(ADJ, a)}\")\n",
    "a = \"A\"; print(f\"Danh sach ke voi dinh {a}: {LayKe(ADJ, a)}\")\n",
    "a = \"B\"; print(f\"Danh sach ke voi dinh {a}: {LayKe(ADJ, a)}\")\n",
    "a = \"D\"; print(f\"Danh sach ke voi dinh {a}: {LayKe(ADJ, a)}\")"
   ],
   "outputs": [
    {
     "name": "stdout",
     "output_type": "stream",
     "text": [
      "(d) Cho một đỉnh A. Hỏi danh sách các đỉnh kề với A\n",
      "Danh sach ke voi dinh P: None\n",
      "Danh sach ke voi dinh A: ['C', 'D', 'E', 'F']\n",
      "Danh sach ke voi dinh B: []\n",
      "Danh sach ke voi dinh D: ['E', 'H']\n"
     ]
    }
   ],
   "execution_count": 9
  },
  {
   "cell_type": "markdown",
   "id": "465a8fdb-f10f-47a9-91ab-1b23598fda4f",
   "metadata": {},
   "source": [
    "#### 3. Đọc và lưu đồ thị\n",
    "**dske.txt**\n",
    "```\n",
    "10           # số đỉnh đồ thị\n",
    "A C E F D    # đỉnh A kề với C E F D\n",
    "B            # đỉnh B không kề với ai\n",
    "C H\n",
    "D E H\n",
    "E K I\n",
    "F I G\n",
    "G\n",
    "H K\n",
    "I K B\n",
    "K B\n",
    "```"
   ]
  },
  {
   "cell_type": "code",
   "id": "a71b385f-d571-4d94-88f1-427527c23653",
   "metadata": {
    "ExecuteTime": {
     "end_time": "2025-09-19T03:11:38.063602Z",
     "start_time": "2025-09-19T03:11:38.057238Z"
    }
   },
   "source": [
    "print(\"1. Lưu đồ thị xuống tập tin\")\n",
    "\n",
    "def LuuDoThi(G, file_path, verbose = True):\n",
    "    import os\n",
    "    \n",
    "    \"\"\" CÁC BẠN LÀM BÀI Ở ĐÂY \"\"\"\n",
    "\n",
    "    # Tạo thư mục chứa file_path\n",
    "    file_dir = os.path.dirname(file_path)\n",
    "    if file_dir != \"\" and os.path.exists(file_path) == False:\n",
    "        os.makedirs(file_dir)\n",
    "        if verbose: print(f\"+ Tao thu muc: {file_dir}\")\n",
    "    \n",
    "    # Lưu đồ thị\n",
    "    with open(file_path, \"wt\") as file:\n",
    "        \"\"\" CÁC BẠN LÀM BÀI Ở ĐÂY \"\"\"\n",
    "        # ...\n",
    "        file.write(str(len(G)) + \"\\n\")\n",
    "        for v in G:\n",
    "            neighbors = G[v] if isinstance(G[v], list) else []\n",
    "            line = v + (\"\" if len(neighbors) == 0 else \" \" + \" \".join(neighbors))\n",
    "            file.write(line + \"\\n\")\n",
    "        if verbose: print(f\"Luu do thi thanh cong xuong tap tin: {file_path}\")\n",
    "    pass\n",
    "\n",
    "LuuDoThi(ADJ, \"dske1.txt\", verbose = True)\n",
    "with open(\"dske1.txt\", \"rt\") as file:\n",
    "    lines = file.readlines()\n",
    "    for line in lines: print(line, end=\"\")"
   ],
   "outputs": [
    {
     "name": "stdout",
     "output_type": "stream",
     "text": [
      "1. Lưu đồ thị xuống tập tin\n",
      "Luu do thi thanh cong xuong tap tin: dske1.txt\n",
      "10\n",
      "A C D E F\n",
      "C H\n",
      "D E H\n",
      "E I K\n",
      "F G I\n",
      "H K\n",
      "K B\n",
      "I K B\n",
      "B\n",
      "G\n"
     ]
    }
   ],
   "execution_count": 10
  },
  {
   "cell_type": "code",
   "id": "b30921dc-fb94-44a5-907f-0d66340757a0",
   "metadata": {
    "ExecuteTime": {
     "end_time": "2025-09-19T03:14:08.024371Z",
     "start_time": "2025-09-19T03:14:08.019326Z"
    }
   },
   "source": [
    "print(\"2. Đọc đồ thị từ tập tin\")\n",
    "import pprint\n",
    "\n",
    "def DocDoThi(file_path, verbose = True):\n",
    "    \"\"\"\n",
    "    return:\n",
    "    + None: doc that bai\n",
    "    + <>None: tra ve do thi\n",
    "    \"\"\"\n",
    "    import os\n",
    "    \n",
    "    result = None\n",
    "    if os.path.exists(file_path) == False:\n",
    "        result = None\n",
    "    else:\n",
    "        G = {}\n",
    "        with open(file_path, \"rt\") as file:\n",
    "            n = int(file.readline())\n",
    "            \"\"\" CÁC BẠN LÀM BÀI Ở ĐÂY \"\"\"\n",
    "            # ...  \n",
    "            for _ in range(n):\n",
    "                parts = file.readline().strip().split()\n",
    "                if len(parts) > 0:\n",
    "                    v = parts[0]\n",
    "                    neighbors = parts[1:] if len(parts) > 1 else []\n",
    "                    G[v] = neighbors\n",
    "            pass\n",
    "        result = G\n",
    "    return result\n",
    "\n",
    "G1 = DocDoThi(\"dske1.txt\", verbose = True)\n",
    "pprint.pprint(G1)"
   ],
   "outputs": [
    {
     "name": "stdout",
     "output_type": "stream",
     "text": [
      "2. Đọc đồ thị từ tập tin\n",
      "{'A': ['C', 'D', 'E', 'F'],\n",
      " 'B': [],\n",
      " 'C': ['H'],\n",
      " 'D': ['E', 'H'],\n",
      " 'E': ['I', 'K'],\n",
      " 'F': ['G', 'I'],\n",
      " 'G': [],\n",
      " 'H': ['K'],\n",
      " 'I': ['K', 'B'],\n",
      " 'K': ['B']}\n"
     ]
    }
   ],
   "execution_count": 14
  },
  {
   "cell_type": "markdown",
   "id": "8197f40f-69af-489d-80b5-124c91427db6",
   "metadata": {},
   "source": [
    "### Bài 2. Tìm kiếm đường đi trên đồ thị"
   ]
  },
  {
   "cell_type": "markdown",
   "id": "43f12303-9ee9-4404-9ecb-f00a5f78e4ee",
   "metadata": {},
   "source": [
    "#### 1. Tìm kiếm theo chiều rộng (BFS)"
   ]
  },
  {
   "cell_type": "code",
   "id": "1910f300-4094-4d69-b009-a9d4ea0fb27b",
   "metadata": {
    "ExecuteTime": {
     "end_time": "2025-09-19T03:17:19.558836Z",
     "start_time": "2025-09-19T03:17:19.554896Z"
    }
   },
   "source": [
    "import pprint\n",
    "\n",
    "def BFS(G, start, goal):\n",
    "    \"\"\"\n",
    "    return: \n",
    "    + mang chua duong di tu a --> b, neu rong la ko co duong di\n",
    "    + None: dinh a, b khong hop le\n",
    "    \"\"\"\n",
    "    result = None\n",
    "    \n",
    "    if G.get(start) is None or G.get(goal) is None:\n",
    "        result = None\n",
    "    else:\n",
    "        path = {}     # path[a]=b nghia la muon di toi dinh b phai qua a\n",
    "        s_open   = []\n",
    "        s_closed = []\n",
    "        \n",
    "        # đưa start vào open\n",
    "        s_open.append(start)    \n",
    "        path[start] = None\n",
    "        while len(s_open)>0:\n",
    "            \"\"\" CÁC BẠN LÀM BÀI Ở ĐÂY \"\"\"\n",
    "            # ...\n",
    "            u = s_open.pop(0)\n",
    "            s_closed.append(u)\n",
    "            if u == goal:\n",
    "                break\n",
    "\n",
    "            for v in G[u]:\n",
    "                if v not in s_open and v not in s_closed:\n",
    "                    s_open.append(v)\n",
    "                    if v not in path:\n",
    "                        path[v] = u\n",
    "            pass\n",
    "        \n",
    "    return path"
   ],
   "outputs": [],
   "execution_count": 17
  },
  {
   "cell_type": "code",
   "id": "ed7e6ed1-ae75-4183-8cb2-0e4eae606144",
   "metadata": {
    "ExecuteTime": {
     "end_time": "2025-09-19T03:17:25.103257Z",
     "start_time": "2025-09-19T03:17:25.099973Z"
    }
   },
   "source": [
    "path = BFS(ADJ, \"A\", \"B\")\n",
    "pprint.pprint(path)"
   ],
   "outputs": [
    {
     "name": "stdout",
     "output_type": "stream",
     "text": [
      "{'A': None,\n",
      " 'B': 'I',\n",
      " 'C': 'A',\n",
      " 'D': 'A',\n",
      " 'E': 'A',\n",
      " 'F': 'A',\n",
      " 'G': 'F',\n",
      " 'H': 'C',\n",
      " 'I': 'E',\n",
      " 'K': 'E'}\n"
     ]
    }
   ],
   "execution_count": 36
  },
  {
   "cell_type": "code",
   "id": "cd05574f-d2fa-4f71-80b2-1f9c5b45f945",
   "metadata": {
    "ExecuteTime": {
     "end_time": "2025-09-19T03:18:46.149546Z",
     "start_time": "2025-09-19T03:18:46.146595Z"
    }
   },
   "source": [
    "def find_path(path, start, goal):\n",
    "    \"\"\"\n",
    "    Cho mang truy hoi duong, tim ds dinh tu start --> goal\n",
    "    \"\"\"\n",
    "    result = []\n",
    "    \n",
    "    \"\"\" CÁC BẠN LÀM BÀI Ở ĐÂY \"\"\"\n",
    "    # ...\n",
    "    if goal not in path:\n",
    "        return result\n",
    "    v = goal\n",
    "    while v is not None:\n",
    "        result.insert(0, v)\n",
    "        v = path.get(v)\n",
    "    if len(result) == 0 or result[0] != start:\n",
    "        result = []\n",
    "    return result\n",
    "    pass"
   ],
   "outputs": [],
   "execution_count": 37
  },
  {
   "cell_type": "code",
   "id": "50a093aa-283b-4623-9428-a0631e37328b",
   "metadata": {
    "ExecuteTime": {
     "end_time": "2025-09-19T03:18:48.262734Z",
     "start_time": "2025-09-19T03:18:48.256328Z"
    }
   },
   "source": [
    "find_path(path, 'A', 'B')"
   ],
   "outputs": [
    {
     "data": {
      "text/plain": [
       "['A', 'E', 'I', 'B']"
      ]
     },
     "execution_count": 38,
     "metadata": {},
     "output_type": "execute_result"
    }
   ],
   "execution_count": 38
  },
  {
   "cell_type": "markdown",
   "id": "16085819-733d-4f95-a32d-aa52c5e35a6e",
   "metadata": {},
   "source": [
    "#### 2. Tìm kiếm theo chiều rộng (DFS)"
   ]
  },
  {
   "cell_type": "code",
   "id": "50ebc7cd-f093-4d06-852c-e6c903e27864",
   "metadata": {
    "ExecuteTime": {
     "end_time": "2025-09-19T03:20:15.867898Z",
     "start_time": "2025-09-19T03:20:15.863860Z"
    }
   },
   "source": [
    "import pprint\n",
    "\n",
    "def DFS(G, start, goal):\n",
    "    \"\"\"\n",
    "    return: \n",
    "    + mang chua duong di tu a --> b, neu rong la ko co duong di\n",
    "    + None: dinh a, b khong hop le\n",
    "    \"\"\"\n",
    "    result = None\n",
    "    \n",
    "    if G.get(start) is None or G.get(goal) is None:\n",
    "        result = None\n",
    "    else:\n",
    "        path = {}     # path[a]=b nghia la muon di toi dinh b phai qua a\n",
    "        s_open   = []\n",
    "        s_closed = []\n",
    "        \n",
    "        # đưa start vào open\n",
    "        s_open.append(start)    \n",
    "        path[start] = None\n",
    "        while len(s_open)>0:\n",
    "            \"\"\" CÁC BẠN LÀM BÀI Ở ĐÂY \"\"\"\n",
    "            # ...\n",
    "            u = s_open.pop()\n",
    "            s_closed.append(u)\n",
    "            if u == goal:\n",
    "                break\n",
    "            for v in G[u]:\n",
    "                if v not in s_open and v not in s_closed:\n",
    "                    s_open.append(v)\n",
    "                    if v not in path:\n",
    "                        path[v] = u\n",
    "            pass\n",
    "        \n",
    "    return path"
   ],
   "outputs": [],
   "execution_count": 39
  },
  {
   "cell_type": "code",
   "id": "8177518a-8ffc-4a29-be9c-90375367793a",
   "metadata": {
    "ExecuteTime": {
     "end_time": "2025-09-19T03:20:17.814616Z",
     "start_time": "2025-09-19T03:20:17.810827Z"
    }
   },
   "source": [
    "path = DFS(ADJ, \"A\", \"B\")\n",
    "pprint.pprint(path)"
   ],
   "outputs": [
    {
     "name": "stdout",
     "output_type": "stream",
     "text": [
      "{'A': None,\n",
      " 'B': 'I',\n",
      " 'C': 'A',\n",
      " 'D': 'A',\n",
      " 'E': 'A',\n",
      " 'F': 'A',\n",
      " 'G': 'F',\n",
      " 'I': 'F',\n",
      " 'K': 'I'}\n"
     ]
    }
   ],
   "execution_count": 40
  },
  {
   "cell_type": "markdown",
   "id": "d037e84a-1f8c-4388-89f6-9b1e105140da",
   "metadata": {},
   "source": [
    "# Kết thúc"
   ]
  }
 ],
 "metadata": {
  "kernelspec": {
   "display_name": "Python 3",
   "language": "python",
   "name": "python3"
  },
  "language_info": {
   "codemirror_mode": {
    "name": "ipython",
    "version": 3
   },
   "file_extension": ".py",
   "mimetype": "text/x-python",
   "name": "python",
   "nbconvert_exporter": "python",
   "pygments_lexer": "ipython3",
   "version": "3.8.8"
  }
 },
 "nbformat": 4,
 "nbformat_minor": 5
}
